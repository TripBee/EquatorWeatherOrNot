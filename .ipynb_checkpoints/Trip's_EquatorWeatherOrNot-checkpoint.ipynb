{
 "cells": [
  {
   "cell_type": "code",
   "execution_count": 1,
   "metadata": {
    "scrolled": true
   },
   "outputs": [],
   "source": [
    "# Dependencies and Setup\n",
    "import matplotlib.pyplot as plt\n",
    "import pandas as pd\n",
    "import numpy as np\n",
    "import requests\n",
    "import time\n",
    "\n",
    "# Import API key\n",
    "from OpenWeatherMapKey import API_key\n",
    "\n",
    "# Incorporated citipy to determine city based on latitude and longitude\n",
    "from citipy import citipy\n",
    "\n",
    "# Output File (CSV)\n",
    "output_data_file = \"output_data/cities.csv\"\n",
    "\n",
    "# Range of latitudes and longitudes\n",
    "lat_range = (-90, 90)\n",
    "lng_range = (-180, 180)"
   ]
  },
  {
   "cell_type": "markdown",
   "metadata": {},
   "source": [
    "## Generate Cities List"
   ]
  },
  {
   "cell_type": "code",
   "execution_count": 2,
   "metadata": {},
   "outputs": [
    {
     "data": {
      "text/plain": [
       "998"
      ]
     },
     "execution_count": 2,
     "metadata": {},
     "output_type": "execute_result"
    }
   ],
   "source": [
    "# List for holding lat_lngs and cities\n",
    "lat_lngs = []\n",
    "cities = []\n",
    "\n",
    "# Create a set of random lat and lng combinations\n",
    "lats = np.random.uniform(low=-90.000, high=90.000, size=3000)\n",
    "lngs = np.random.uniform(low=-180.000, high=180.000, size=3000)\n",
    "lat_lngs = zip(lats, lngs)\n",
    "\n",
    "# Identify nearest city for each lat, lng combination\n",
    "for lat_lng in lat_lngs:\n",
    "    city = citipy.nearest_city(lat_lng[0], lat_lng[1]).city_name\n",
    "    \n",
    "    # If the city name is unique, then add it to a our cities list\n",
    "    if city not in cities:\n",
    "        cities.append(city)\n",
    "\n",
    "# Print the city count to confirm sufficient count\n",
    "len(cities)"
   ]
  },
  {
   "cell_type": "code",
   "execution_count": 3,
   "metadata": {},
   "outputs": [
    {
     "data": {
      "text/plain": [
       "['kenai', 'owando']"
      ]
     },
     "execution_count": 3,
     "metadata": {},
     "output_type": "execute_result"
    }
   ],
   "source": [
    "cities[0:2]"
   ]
  },
  {
   "cell_type": "markdown",
   "metadata": {},
   "source": [
    "## Perform API Calls"
   ]
  },
  {
   "cell_type": "code",
   "execution_count": 4,
   "metadata": {},
   "outputs": [],
   "source": [
    "## Create the parameters for your query.\n",
    "# api_key: already imported in the first cell\n",
    "url = \"http://api.openweathermap.org/data/2.5/weather?\"\n",
    "testc = \"albany\"\n",
    "units = \"imperial\"\n",
    "\n",
    "## Form an API querry. I believe this is the standard format for an API querry\n",
    "query_url = f\"{url}appid={API_key}&q={testc}&units={units}\""
   ]
  },
  {
   "cell_type": "code",
   "execution_count": 5,
   "metadata": {},
   "outputs": [],
   "source": [
    "## make a test request\n",
    "weather_response = requests.get(query_url)\n",
    "weather_json = weather_response.json()"
   ]
  },
  {
   "cell_type": "code",
   "execution_count": 6,
   "metadata": {},
   "outputs": [
    {
     "name": "stdout",
     "output_type": "stream",
     "text": [
      "{'coord': {'lon': -73.75, 'lat': 42.65}, 'weather': [{'id': 803, 'main': 'Clouds', 'description': 'broken clouds', 'icon': '04d'}], 'base': 'stations', 'main': {'temp': 84.79, 'pressure': 1019, 'humidity': 45, 'temp_min': 82.4, 'temp_max': 87.8}, 'visibility': 16093, 'wind': {'speed': 16.11, 'deg': 180, 'gust': 10.8}, 'clouds': {'all': 75}, 'dt': 1532469240, 'sys': {'type': 1, 'id': 2088, 'message': 0.0034, 'country': 'US', 'sunrise': 1532425181, 'sunset': 1532478167}, 'id': 5106834, 'name': 'Albany', 'cod': 200}\n"
     ]
    }
   ],
   "source": [
    "print(weather_json)"
   ]
  },
  {
   "cell_type": "code",
   "execution_count": 23,
   "metadata": {},
   "outputs": [
    {
     "name": "stdout",
     "output_type": "stream",
     "text": [
      "84.79\n",
      "45\n",
      "75\n",
      "16.11\n",
      "-73.75\n"
     ]
    }
   ],
   "source": [
    "print(weather_json['main']['temp'])\n",
    "print(weather_json['main']['humidity'])\n",
    "print(weather_json['clouds']['all'])\n",
    "print(weather_json['wind']['speed'])\n",
    "print(weather_json['coord']['lon'])"
   ]
  },
  {
   "cell_type": "code",
   "execution_count": 8,
   "metadata": {},
   "outputs": [],
   "source": [
    "## Form a DataFrame for your results\n",
    "Results = pd.DataFrame()\n",
    "\n",
    "Temperature = []\n",
    "Humidity = []\n",
    "Cloudiness = []\n",
    "Wind_Speed = []\n",
    "Latitude = []\n",
    "\n",
    "Results[\"Temperature\"] = Temperature\n",
    "Results[\"Humidity\"] = Humidity\n",
    "Results[\"Cloudiness\"] = Cloudiness\n",
    "Results[\"Wind Speed\"] = Wind_Speed\n",
    "Results[\"Latitude\"] = Latitude\n",
    "\n",
    "# this is a Dataframe with 5 named but empty columns "
   ]
  },
  {
   "cell_type": "code",
   "execution_count": 17,
   "metadata": {},
   "outputs": [],
   "source": [
    "city_counter = 0\n",
    "test_list = []\n",
    "while city_counter < 50:\n",
    "    test_list.append(cities[city_counter])\n",
    "    city_counter = city_counter + 1"
   ]
  },
  {
   "cell_type": "code",
   "execution_count": 18,
   "metadata": {},
   "outputs": [
    {
     "data": {
      "text/plain": [
       "50"
      ]
     },
     "execution_count": 18,
     "metadata": {},
     "output_type": "execute_result"
    }
   ],
   "source": [
    "len(test_list)"
   ]
  },
  {
   "cell_type": "code",
   "execution_count": null,
   "metadata": {},
   "outputs": [],
   "source": []
  },
  {
   "cell_type": "code",
   "execution_count": null,
   "metadata": {},
   "outputs": [],
   "source": [
    "weather_json[\"sys\"][\"sunrise\"]"
   ]
  },
  {
   "cell_type": "code",
   "execution_count": null,
   "metadata": {},
   "outputs": [],
   "source": [
    "## you need to add 5 data points from each of the 500 responses to the daraframe \n",
    "## to do that you will need to make 500 sucessful requests from openweathermap.org\n",
    "    # while city_counter < 500:\n",
    "        # for city in cities: # for each city do the following things:\n",
    "            # make the request for its information\n",
    "            # if weather_json['coord']['lon'] == \"{'cod': '404', 'message': 'city not found'}\" then:\n",
    "            # if it recieves this {'cod': '404', 'message': 'city not found'}\" then the response was not legitimate \n",
    "                #  \n",
    "    "
   ]
  }
 ],
 "metadata": {
  "anaconda-cloud": {},
  "kernelspec": {
   "display_name": "Python 3",
   "language": "python",
   "name": "python3"
  },
  "language_info": {
   "codemirror_mode": {
    "name": "ipython",
    "version": 3
   },
   "file_extension": ".py",
   "mimetype": "text/x-python",
   "name": "python",
   "nbconvert_exporter": "python",
   "pygments_lexer": "ipython3",
   "version": "3.6.5"
  }
 },
 "nbformat": 4,
 "nbformat_minor": 1
}
